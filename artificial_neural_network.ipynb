{
 "cells": [
  {
   "cell_type": "code",
   "execution_count": 38,
   "metadata": {},
   "outputs": [],
   "source": [
    "import pandas as pd\n",
    "import numpy as np\n",
    "import tensorflow as tf"
   ]
  },
  {
   "cell_type": "code",
   "execution_count": 39,
   "metadata": {},
   "outputs": [],
   "source": [
    "dataset = pd.read_csv('Churn_Modelling.csv')\n",
    "X = dataset.iloc[:, 3:-1].values\n",
    "y = dataset.iloc[:, -1].values\n"
   ]
  },
  {
   "cell_type": "code",
   "execution_count": 40,
   "metadata": {},
   "outputs": [
    {
     "name": "stdout",
     "output_type": "stream",
     "text": [
      "[[619 'France' 'Female' ... 1 1 101348.88]\n",
      " [608 'Spain' 'Female' ... 0 1 112542.58]\n",
      " [502 'France' 'Female' ... 1 0 113931.57]\n",
      " ...\n",
      " [709 'France' 'Female' ... 0 1 42085.58]\n",
      " [772 'Germany' 'Male' ... 1 0 92888.52]\n",
      " [792 'France' 'Female' ... 1 0 38190.78]]\n"
     ]
    }
   ],
   "source": [
    "print(X)"
   ]
  },
  {
   "cell_type": "code",
   "execution_count": 41,
   "metadata": {},
   "outputs": [
    {
     "name": "stdout",
     "output_type": "stream",
     "text": [
      "[1 0 1 ... 1 1 0]\n"
     ]
    }
   ],
   "source": [
    "print(y)"
   ]
  },
  {
   "cell_type": "code",
   "execution_count": 42,
   "metadata": {},
   "outputs": [],
   "source": [
    "from sklearn.preprocessing import LabelEncoder\n",
    "\n",
    "le = LabelEncoder()\n",
    "X[:, 2] = le.fit_transform(X[:, 2])"
   ]
  },
  {
   "cell_type": "code",
   "execution_count": 43,
   "metadata": {},
   "outputs": [],
   "source": [
    "from sklearn.preprocessing import OneHotEncoder\n",
    "from sklearn.compose import ColumnTransformer\n",
    "ct = ColumnTransformer(transformers=[('encoder', OneHotEncoder(), [1])], remainder='passthrough')\n",
    "X = np.array(ct.fit_transform(X))\n"
   ]
  },
  {
   "cell_type": "code",
   "execution_count": 44,
   "metadata": {},
   "outputs": [
    {
     "name": "stdout",
     "output_type": "stream",
     "text": [
      "[[1.0 0.0 0.0 ... 1 1 101348.88]\n",
      " [0.0 0.0 1.0 ... 0 1 112542.58]\n",
      " [1.0 0.0 0.0 ... 1 0 113931.57]\n",
      " ...\n",
      " [1.0 0.0 0.0 ... 0 1 42085.58]\n",
      " [0.0 1.0 0.0 ... 1 0 92888.52]\n",
      " [1.0 0.0 0.0 ... 1 0 38190.78]]\n"
     ]
    }
   ],
   "source": [
    "print(X)"
   ]
  },
  {
   "cell_type": "code",
   "execution_count": 45,
   "metadata": {},
   "outputs": [],
   "source": [
    "from sklearn.model_selection import train_test_split\n",
    "X_train, X_test, y_train, y_test = train_test_split(X, y, test_size=.2, random_state=0)"
   ]
  },
  {
   "cell_type": "code",
   "execution_count": 46,
   "metadata": {},
   "outputs": [],
   "source": [
    "from sklearn.preprocessing import StandardScaler\n",
    "sc = StandardScaler()\n",
    "X_train = sc.fit_transform(X_train)\n",
    "X_test = sc.transform(X_test)"
   ]
  },
  {
   "cell_type": "code",
   "execution_count": 47,
   "metadata": {},
   "outputs": [],
   "source": [
    "ann = tf.keras.models.Sequential()"
   ]
  },
  {
   "cell_type": "code",
   "execution_count": 48,
   "metadata": {},
   "outputs": [],
   "source": [
    "ann.add(tf.keras.layers.Dense(units=6, activation='relu'))"
   ]
  },
  {
   "cell_type": "code",
   "execution_count": 49,
   "metadata": {},
   "outputs": [],
   "source": [
    "ann.add(tf.keras.layers.Dense(units=6, activation='relu'))"
   ]
  },
  {
   "cell_type": "code",
   "execution_count": 50,
   "metadata": {},
   "outputs": [],
   "source": [
    "ann.add(tf.keras.layers.Dense(units=1, activation='sigmoid'))"
   ]
  },
  {
   "cell_type": "code",
   "execution_count": 51,
   "metadata": {},
   "outputs": [],
   "source": [
    "# compile the ANN\n",
    "ann.compile(optimizer='adam', loss='binary_crossentropy', metrics=['accuracy'])"
   ]
  },
  {
   "cell_type": "code",
   "execution_count": 52,
   "metadata": {},
   "outputs": [
    {
     "name": "stdout",
     "output_type": "stream",
     "text": [
      "Epoch 1/100\n",
      "250/250 [==============================] - 1s 824us/step - loss: 0.6447 - accuracy: 0.6392\n",
      "Epoch 2/100\n",
      "250/250 [==============================] - 0s 783us/step - loss: 0.4857 - accuracy: 0.7970\n",
      "Epoch 3/100\n",
      "250/250 [==============================] - 0s 819us/step - loss: 0.4446 - accuracy: 0.8090\n",
      "Epoch 4/100\n",
      "250/250 [==============================] - 0s 791us/step - loss: 0.4239 - accuracy: 0.8198\n",
      "Epoch 5/100\n",
      "250/250 [==============================] - 0s 803us/step - loss: 0.4064 - accuracy: 0.8282\n",
      "Epoch 6/100\n",
      "250/250 [==============================] - 0s 751us/step - loss: 0.3896 - accuracy: 0.8365\n",
      "Epoch 7/100\n",
      "250/250 [==============================] - 0s 751us/step - loss: 0.3777 - accuracy: 0.8438\n",
      "Epoch 8/100\n",
      "250/250 [==============================] - 0s 723us/step - loss: 0.3702 - accuracy: 0.8436\n",
      "Epoch 9/100\n",
      "250/250 [==============================] - 0s 775us/step - loss: 0.3656 - accuracy: 0.8466\n",
      "Epoch 10/100\n",
      "250/250 [==============================] - 0s 727us/step - loss: 0.3624 - accuracy: 0.8472\n",
      "Epoch 11/100\n",
      "250/250 [==============================] - 0s 727us/step - loss: 0.3600 - accuracy: 0.8474\n",
      "Epoch 12/100\n",
      "250/250 [==============================] - 0s 799us/step - loss: 0.3580 - accuracy: 0.8482\n",
      "Epoch 13/100\n",
      "250/250 [==============================] - 0s 759us/step - loss: 0.3564 - accuracy: 0.8508\n",
      "Epoch 14/100\n",
      "250/250 [==============================] - 0s 727us/step - loss: 0.3555 - accuracy: 0.8505\n",
      "Epoch 15/100\n",
      "250/250 [==============================] - 0s 723us/step - loss: 0.3543 - accuracy: 0.8501\n",
      "Epoch 16/100\n",
      "250/250 [==============================] - 0s 779us/step - loss: 0.3531 - accuracy: 0.8516\n",
      "Epoch 17/100\n",
      "250/250 [==============================] - 0s 727us/step - loss: 0.3520 - accuracy: 0.8526\n",
      "Epoch 18/100\n",
      "250/250 [==============================] - 0s 775us/step - loss: 0.3513 - accuracy: 0.8526\n",
      "Epoch 19/100\n",
      "250/250 [==============================] - 0s 739us/step - loss: 0.3501 - accuracy: 0.8522\n",
      "Epoch 20/100\n",
      "250/250 [==============================] - 0s 727us/step - loss: 0.3495 - accuracy: 0.8520\n",
      "Epoch 21/100\n",
      "250/250 [==============================] - 0s 767us/step - loss: 0.3485 - accuracy: 0.8543\n",
      "Epoch 22/100\n",
      "250/250 [==============================] - 0s 799us/step - loss: 0.3479 - accuracy: 0.8536\n",
      "Epoch 23/100\n",
      "250/250 [==============================] - 0s 779us/step - loss: 0.3470 - accuracy: 0.8528\n",
      "Epoch 24/100\n",
      "250/250 [==============================] - 0s 763us/step - loss: 0.3464 - accuracy: 0.8551\n",
      "Epoch 25/100\n",
      "250/250 [==============================] - 0s 743us/step - loss: 0.3459 - accuracy: 0.8535\n",
      "Epoch 26/100\n",
      "250/250 [==============================] - 0s 751us/step - loss: 0.3452 - accuracy: 0.8549\n",
      "Epoch 27/100\n",
      "250/250 [==============================] - 0s 719us/step - loss: 0.3446 - accuracy: 0.8558\n",
      "Epoch 28/100\n",
      "250/250 [==============================] - 0s 743us/step - loss: 0.3440 - accuracy: 0.8564\n",
      "Epoch 29/100\n",
      "250/250 [==============================] - 0s 735us/step - loss: 0.3433 - accuracy: 0.8561\n",
      "Epoch 30/100\n",
      "250/250 [==============================] - 0s 723us/step - loss: 0.3432 - accuracy: 0.8565\n",
      "Epoch 31/100\n",
      "250/250 [==============================] - 0s 723us/step - loss: 0.3422 - accuracy: 0.8554\n",
      "Epoch 32/100\n",
      "250/250 [==============================] - 0s 719us/step - loss: 0.3420 - accuracy: 0.8551\n",
      "Epoch 33/100\n",
      "250/250 [==============================] - 0s 727us/step - loss: 0.3412 - accuracy: 0.8560\n",
      "Epoch 34/100\n",
      "250/250 [==============================] - 0s 832us/step - loss: 0.3411 - accuracy: 0.8558\n",
      "Epoch 35/100\n",
      "250/250 [==============================] - 0s 819us/step - loss: 0.3405 - accuracy: 0.8565\n",
      "Epoch 36/100\n",
      "250/250 [==============================] - 0s 735us/step - loss: 0.3398 - accuracy: 0.8555\n",
      "Epoch 37/100\n",
      "250/250 [==============================] - 0s 751us/step - loss: 0.3395 - accuracy: 0.8568\n",
      "Epoch 38/100\n",
      "250/250 [==============================] - 0s 727us/step - loss: 0.3392 - accuracy: 0.8579\n",
      "Epoch 39/100\n",
      "250/250 [==============================] - 0s 719us/step - loss: 0.3389 - accuracy: 0.8561\n",
      "Epoch 40/100\n",
      "250/250 [==============================] - 0s 715us/step - loss: 0.3386 - accuracy: 0.8566\n",
      "Epoch 41/100\n",
      "250/250 [==============================] - 0s 723us/step - loss: 0.3381 - accuracy: 0.8579\n",
      "Epoch 42/100\n",
      "250/250 [==============================] - 0s 731us/step - loss: 0.3381 - accuracy: 0.8569\n",
      "Epoch 43/100\n",
      "250/250 [==============================] - 0s 727us/step - loss: 0.3377 - accuracy: 0.8568\n",
      "Epoch 44/100\n",
      "250/250 [==============================] - 0s 719us/step - loss: 0.3376 - accuracy: 0.8575\n",
      "Epoch 45/100\n",
      "250/250 [==============================] - 0s 723us/step - loss: 0.3375 - accuracy: 0.8587\n",
      "Epoch 46/100\n",
      "250/250 [==============================] - 0s 727us/step - loss: 0.3373 - accuracy: 0.8565\n",
      "Epoch 47/100\n",
      "250/250 [==============================] - 0s 727us/step - loss: 0.3369 - accuracy: 0.8576\n",
      "Epoch 48/100\n",
      "250/250 [==============================] - 0s 723us/step - loss: 0.3371 - accuracy: 0.8576\n",
      "Epoch 49/100\n",
      "250/250 [==============================] - 0s 735us/step - loss: 0.3368 - accuracy: 0.8568\n",
      "Epoch 50/100\n",
      "250/250 [==============================] - 0s 876us/step - loss: 0.3362 - accuracy: 0.8581\n",
      "Epoch 51/100\n",
      "250/250 [==============================] - 0s 747us/step - loss: 0.3362 - accuracy: 0.8579\n",
      "Epoch 52/100\n",
      "250/250 [==============================] - 0s 787us/step - loss: 0.3361 - accuracy: 0.8577\n",
      "Epoch 53/100\n",
      "250/250 [==============================] - 0s 739us/step - loss: 0.3362 - accuracy: 0.8580\n",
      "Epoch 54/100\n",
      "250/250 [==============================] - 0s 727us/step - loss: 0.3359 - accuracy: 0.8590\n",
      "Epoch 55/100\n",
      "250/250 [==============================] - 0s 763us/step - loss: 0.3356 - accuracy: 0.8583\n",
      "Epoch 56/100\n",
      "250/250 [==============================] - 0s 727us/step - loss: 0.3353 - accuracy: 0.8584\n",
      "Epoch 57/100\n",
      "250/250 [==============================] - 0s 731us/step - loss: 0.3348 - accuracy: 0.8590\n",
      "Epoch 58/100\n",
      "250/250 [==============================] - 0s 723us/step - loss: 0.3350 - accuracy: 0.8589\n",
      "Epoch 59/100\n",
      "250/250 [==============================] - 0s 723us/step - loss: 0.3348 - accuracy: 0.8590\n",
      "Epoch 60/100\n",
      "250/250 [==============================] - 0s 719us/step - loss: 0.3344 - accuracy: 0.8608\n",
      "Epoch 61/100\n",
      "250/250 [==============================] - 0s 719us/step - loss: 0.3345 - accuracy: 0.8596\n",
      "Epoch 62/100\n",
      "250/250 [==============================] - 0s 723us/step - loss: 0.3339 - accuracy: 0.8602\n",
      "Epoch 63/100\n",
      "250/250 [==============================] - 0s 719us/step - loss: 0.3340 - accuracy: 0.8599\n",
      "Epoch 64/100\n",
      "250/250 [==============================] - 0s 723us/step - loss: 0.3343 - accuracy: 0.8606\n",
      "Epoch 65/100\n",
      "250/250 [==============================] - 0s 723us/step - loss: 0.3335 - accuracy: 0.8626\n",
      "Epoch 66/100\n",
      "250/250 [==============================] - 0s 775us/step - loss: 0.3335 - accuracy: 0.8629\n",
      "Epoch 67/100\n",
      "250/250 [==============================] - 0s 727us/step - loss: 0.3334 - accuracy: 0.8629\n",
      "Epoch 68/100\n",
      "250/250 [==============================] - 0s 719us/step - loss: 0.3329 - accuracy: 0.8616\n",
      "Epoch 69/100\n",
      "250/250 [==============================] - 0s 723us/step - loss: 0.3328 - accuracy: 0.8631\n",
      "Epoch 70/100\n",
      "250/250 [==============================] - 0s 707us/step - loss: 0.3327 - accuracy: 0.8644\n",
      "Epoch 71/100\n",
      "250/250 [==============================] - 0s 711us/step - loss: 0.3327 - accuracy: 0.8646\n",
      "Epoch 72/100\n",
      "250/250 [==============================] - 0s 743us/step - loss: 0.3328 - accuracy: 0.8627\n",
      "Epoch 73/100\n",
      "250/250 [==============================] - 0s 719us/step - loss: 0.3327 - accuracy: 0.8626\n",
      "Epoch 74/100\n",
      "250/250 [==============================] - 0s 727us/step - loss: 0.3320 - accuracy: 0.8643\n",
      "Epoch 75/100\n",
      "250/250 [==============================] - 0s 723us/step - loss: 0.3323 - accuracy: 0.8635\n",
      "Epoch 76/100\n",
      "250/250 [==============================] - 0s 771us/step - loss: 0.3321 - accuracy: 0.8645\n",
      "Epoch 77/100\n",
      "250/250 [==============================] - 0s 723us/step - loss: 0.3320 - accuracy: 0.8639\n",
      "Epoch 78/100\n",
      "250/250 [==============================] - 0s 735us/step - loss: 0.3320 - accuracy: 0.8636\n",
      "Epoch 79/100\n",
      "250/250 [==============================] - 0s 755us/step - loss: 0.3323 - accuracy: 0.8652\n",
      "Epoch 80/100\n",
      "250/250 [==============================] - 0s 791us/step - loss: 0.3323 - accuracy: 0.8635\n",
      "Epoch 81/100\n",
      "250/250 [==============================] - 0s 819us/step - loss: 0.3316 - accuracy: 0.8662\n",
      "Epoch 82/100\n",
      "250/250 [==============================] - 0s 739us/step - loss: 0.3317 - accuracy: 0.8648\n",
      "Epoch 83/100\n",
      "250/250 [==============================] - 0s 783us/step - loss: 0.3313 - accuracy: 0.8654\n",
      "Epoch 84/100\n",
      "250/250 [==============================] - 0s 739us/step - loss: 0.3311 - accuracy: 0.8644\n",
      "Epoch 85/100\n",
      "250/250 [==============================] - 0s 735us/step - loss: 0.3315 - accuracy: 0.8635\n",
      "Epoch 86/100\n",
      "250/250 [==============================] - 0s 727us/step - loss: 0.3315 - accuracy: 0.8649\n",
      "Epoch 87/100\n",
      "250/250 [==============================] - 0s 731us/step - loss: 0.3311 - accuracy: 0.8648\n",
      "Epoch 88/100\n",
      "250/250 [==============================] - 0s 743us/step - loss: 0.3310 - accuracy: 0.8654\n",
      "Epoch 89/100\n",
      "250/250 [==============================] - 0s 739us/step - loss: 0.3309 - accuracy: 0.8654\n",
      "Epoch 90/100\n",
      "250/250 [==============================] - 0s 751us/step - loss: 0.3310 - accuracy: 0.8658\n",
      "Epoch 91/100\n",
      "250/250 [==============================] - 0s 723us/step - loss: 0.3312 - accuracy: 0.8649\n",
      "Epoch 92/100\n",
      "250/250 [==============================] - 0s 779us/step - loss: 0.3313 - accuracy: 0.8671\n",
      "Epoch 93/100\n",
      "250/250 [==============================] - 0s 743us/step - loss: 0.3310 - accuracy: 0.8649\n",
      "Epoch 94/100\n",
      "250/250 [==============================] - 0s 723us/step - loss: 0.3310 - accuracy: 0.8665\n",
      "Epoch 95/100\n",
      "250/250 [==============================] - 0s 735us/step - loss: 0.3308 - accuracy: 0.8660\n",
      "Epoch 96/100\n",
      "250/250 [==============================] - 0s 731us/step - loss: 0.3309 - accuracy: 0.8645\n",
      "Epoch 97/100\n",
      "250/250 [==============================] - 0s 739us/step - loss: 0.3306 - accuracy: 0.8660\n",
      "Epoch 98/100\n",
      "250/250 [==============================] - 0s 727us/step - loss: 0.3305 - accuracy: 0.8640\n",
      "Epoch 99/100\n",
      "250/250 [==============================] - 0s 743us/step - loss: 0.3302 - accuracy: 0.8660\n",
      "Epoch 100/100\n",
      "250/250 [==============================] - 0s 731us/step - loss: 0.3307 - accuracy: 0.8654\n"
     ]
    },
    {
     "data": {
      "text/plain": [
       "<keras.callbacks.History at 0x20848ec93d0>"
      ]
     },
     "execution_count": 52,
     "metadata": {},
     "output_type": "execute_result"
    }
   ],
   "source": [
    "# train the ANN\n",
    "ann.fit(X_train, y_train, batch_size=32, epochs=100)\n",
    "\n"
   ]
  },
  {
   "cell_type": "code",
   "execution_count": 53,
   "metadata": {},
   "outputs": [
    {
     "name": "stdout",
     "output_type": "stream",
     "text": [
      "1/1 [==============================] - 0s 52ms/step\n",
      "[[0.03270937]]\n"
     ]
    }
   ],
   "source": [
    "print(ann.predict(sc.transform([[1, 0, 0, 600, 1, 40, 3, 60000, 2, 1, 1, 50000]])))"
   ]
  },
  {
   "cell_type": "code",
   "execution_count": 60,
   "metadata": {},
   "outputs": [
    {
     "name": "stdout",
     "output_type": "stream",
     "text": [
      "63/63 [==============================] - 0s 516us/step\n",
      "[[0 0]\n",
      " [0 1]\n",
      " [0 0]\n",
      " ...\n",
      " [0 0]\n",
      " [0 0]\n",
      " [0 0]]\n"
     ]
    }
   ],
   "source": [
    "y_pred = ann.predict(X_test)\n",
    "y_pred = (y_pred > 0.5)\n",
    "print(np.concatenate((y_pred.reshape(len(y_pred), 1), y_test.reshape(len(y_test), 1)),1))"
   ]
  },
  {
   "cell_type": "code",
   "execution_count": 61,
   "metadata": {},
   "outputs": [
    {
     "data": {
      "text/plain": [
       "0.869"
      ]
     },
     "execution_count": 61,
     "metadata": {},
     "output_type": "execute_result"
    }
   ],
   "source": [
    "from sklearn.metrics import accuracy_score, confusion_matrix\n",
    "accuracy_score(y_test, y_pred)"
   ]
  },
  {
   "cell_type": "code",
   "execution_count": 62,
   "metadata": {},
   "outputs": [
    {
     "name": "stdout",
     "output_type": "stream",
     "text": [
      "[[1522   73]\n",
      " [ 189  216]]\n"
     ]
    }
   ],
   "source": [
    "cm = confusion_matrix(y_test, y_pred)\n",
    "print(cm)"
   ]
  },
  {
   "cell_type": "code",
   "execution_count": null,
   "metadata": {},
   "outputs": [],
   "source": []
  }
 ],
 "metadata": {
  "kernelspec": {
   "display_name": "Python 3",
   "language": "python",
   "name": "python3"
  },
  "language_info": {
   "codemirror_mode": {
    "name": "ipython",
    "version": 3
   },
   "file_extension": ".py",
   "mimetype": "text/x-python",
   "name": "python",
   "nbconvert_exporter": "python",
   "pygments_lexer": "ipython3",
   "version": "3.11.4"
  },
  "orig_nbformat": 4
 },
 "nbformat": 4,
 "nbformat_minor": 2
}
